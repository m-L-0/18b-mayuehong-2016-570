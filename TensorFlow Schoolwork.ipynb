{
 "cells": [
  {
   "cell_type": "code",
   "execution_count": 1,
   "metadata": {},
   "outputs": [
    {
     "name": "stderr",
     "output_type": "stream",
     "text": [
      "C:\\Users\\123\\Anaconda3\\lib\\site-packages\\sklearn\\cross_validation.py:41: DeprecationWarning: This module was deprecated in version 0.18 in favor of the model_selection module into which all the refactored classes and functions are moved. Also note that the interface of the new CV iterators are different from that of this module. This module will be removed in 0.20.\n",
      "  \"This module will be removed in 0.20.\", DeprecationWarning)\n",
      "C:\\Users\\123\\Anaconda3\\lib\\site-packages\\h5py\\__init__.py:36: FutureWarning: Conversion of the second argument of issubdtype from `float` to `np.floating` is deprecated. In future, it will be treated as `np.float64 == np.dtype(float).type`.\n",
      "  from ._conv import register_converters as _register_converters\n"
     ]
    }
   ],
   "source": [
    "from sklearn import datasets\n",
    "from sklearn.cross_validation import train_test_split\n",
    "import numpy as np\n",
    "import math\n",
    "import operator\n",
    "import tensorflow as tf\n",
    "import pandas as pd\n",
    "from collections import Counter"
   ]
  },
  {
   "cell_type": "code",
   "execution_count": 2,
   "metadata": {},
   "outputs": [],
   "source": [
    "#1、将鸢尾花数据8:2的比例划分成训练集和验证集\n",
    "iris=datasets.load_iris()#加载鸢尾花数据集\n",
    "data=iris.data\n",
    "target=iris.target\n",
    "x_tr, x_te, y_tr, y_te = train_test_split(data,target,test_size = 0.2,random_state=1)\n",
    "x_train=tf.constant(x_tr,dtype=tf.float32)\n",
    "x_test=tf.constant(x_te,dtype=tf.float32)\n",
    "y_train=tf.constant(y_tr,dtype=tf.float32)\n",
    "y_test=tf.constant(y_te,dtype=tf.float32)"
   ]
  },
  {
   "cell_type": "code",
   "execution_count": 3,
   "metadata": {},
   "outputs": [],
   "source": [
    "#变量初始化\n",
    "init=tf.global_variables_initializer()\n",
    "#2.1 得到未知类别的样本的前K个近邻\n",
    "def getNeighbors(trainingSet,testInstance,k):\n",
    "    distances=[]\n",
    "    neighbors=[]\n",
    "    #计算欧式距离\n",
    "    with tf.Session() as sess:\n",
    "        sess.run(init)\n",
    "        for x in range(trainingSet.shape[0]):\n",
    "            dist=sess.run(tf.norm(trainingSet[x]-testInstance))\n",
    "            distances.append((dist,x))\n",
    "    distances.sort(key=operator.itemgetter(0))\n",
    "    for x in range(k):\n",
    "        neighbors.append(distances[x][1])\n",
    "    return neighbors"
   ]
  },
  {
   "cell_type": "code",
   "execution_count": 4,
   "metadata": {},
   "outputs": [],
   "source": [
    "#2、2采用少数服从多数的原则决出k个近邻中出现次数最多的\n",
    "def getResponse(neighbors):\n",
    "    classVotes =[]\n",
    "    for x in range(len(neighbors)):\n",
    "        response = y_train[neighbors[x]]\n",
    "        classVotes.append(response)\n",
    "        top=Counter(classVotes).most_common(1)\n",
    "    return top[0][0]"
   ]
  },
  {
   "cell_type": "code",
   "execution_count": 5,
   "metadata": {},
   "outputs": [],
   "source": [
    "#3训练模型\n",
    "def main():\n",
    "    predictions=[]\n",
    "    k=3\n",
    "    for x in range(x_test.shape[0]):\n",
    "        neighbors=getNeighbors(x_train,x_test[x],k)\n",
    "        res=getResponse(neighbors)\n",
    "        with tf.Session() as sess:\n",
    "            result=sess.run(res)\n",
    "        predictions.append(result)\n",
    "    return predictions"
   ]
  },
  {
   "cell_type": "code",
   "execution_count": 6,
   "metadata": {},
   "outputs": [],
   "source": [
    "predictions=main()"
   ]
  },
  {
   "cell_type": "code",
   "execution_count": 7,
   "metadata": {},
   "outputs": [],
   "source": [
    "#4、验证模型\n",
    "#正确率函数\n",
    "def getAccuracy(testSet, predictions):\n",
    "    correct = 0\n",
    "    for x in range(len(testSet)):\n",
    "        if testSet[x] == predictions[x]:\n",
    "            correct =correct+ 1\n",
    "    return (correct/float(len(testSet)))*100.0"
   ]
  },
  {
   "cell_type": "code",
   "execution_count": 8,
   "metadata": {},
   "outputs": [
    {
     "name": "stdout",
     "output_type": "stream",
     "text": [
      "Accuracy:100.0%\n"
     ]
    }
   ],
   "source": [
    "accuracy=getAccuracy(y_te,predictions)\n",
    "print('Accuracy:'+repr(accuracy)+'%')"
   ]
  },
  {
   "cell_type": "code",
   "execution_count": null,
   "metadata": {},
   "outputs": [],
   "source": []
  }
 ],
 "metadata": {
  "kernelspec": {
   "display_name": "Python 3",
   "language": "python",
   "name": "python3"
  },
  "language_info": {
   "codemirror_mode": {
    "name": "ipython",
    "version": 3
   },
   "file_extension": ".py",
   "mimetype": "text/x-python",
   "name": "python",
   "nbconvert_exporter": "python",
   "pygments_lexer": "ipython3",
   "version": "3.6.5"
  }
 },
 "nbformat": 4,
 "nbformat_minor": 2
}
